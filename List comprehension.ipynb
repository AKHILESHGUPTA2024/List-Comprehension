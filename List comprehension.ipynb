{
 "cells": [
  {
   "cell_type": "markdown",
   "metadata": {},
   "source": [
    "## LIST COMPREHENSION"
   ]
  },
  {
   "cell_type": "code",
   "execution_count": 30,
   "metadata": {},
   "outputs": [
    {
     "name": "stdout",
     "output_type": "stream",
     "text": [
      "[5, 10, 15, 20, 25]\n",
      "[1, 4, 9, 16, 25, 36, 49, 64, 81, 100, 121, 144, 169, 196, 225, 256, 289, 324, 361, 400, 441, 484, 529, 576, 625, 676, 729, 784, 841, 900, 961, 1024, 1089, 1156, 1225, 1296, 1369, 1444, 1521, 1600, 1681, 1764, 1849, 1936, 2025, 2116, 2209, 2304, 2401, 2500, 2601, 2704, 2809, 2916, 3025, 3136, 3249, 3364, 3481, 3600, 3721, 3844, 3969, 4096, 4225, 4356, 4489, 4624, 4761, 4900, 5041, 5184, 5329, 5476, 5625, 5776, 5929, 6084, 6241, 6400, 6561, 6724, 6889, 7056, 7225, 7396, 7569, 7744, 7921, 8100, 8281, 8464, 8649, 8836, 9025, 9216, 9409, 9604, 9801, 10000]\n",
      "[1, 4, 9, 16, 25, 36, 49, 64, 81, 100, 121, 144, 169, 196, 225, 256, 289, 324, 361, 400, 441, 484, 529, 576, 625, 676, 729, 784, 841, 900, 961, 1024, 1089, 1156, 1225, 1296, 1369, 1444, 1521, 1600, 1681, 1764, 1849, 1936, 2025, 2116, 2209, 2304, 2401, 2500, 2601, 2704, 2809, 2916, 3025, 3136, 3249, 3364, 3481, 3600, 3721, 3844, 3969, 4096, 4225, 4356, 4489, 4624, 4761, 4900, 5041, 5184, 5329, 5476, 5625, 5776, 5929, 6084, 6241, 6400, 6561, 6724, 6889, 7056, 7225, 7396, 7569, 7744, 7921, 8100, 8281, 8464, 8649, 8836, 9025, 9216, 9409, 9604, 9801, 10000]\n",
      "[1, 4, 4, 1, 0, 1, 4, 4, 1, 0, 1, 4, 4, 1, 0, 1, 4, 4, 1, 0, 1, 4, 4, 1, 0, 1, 4, 4, 1, 0, 1, 4, 4, 1, 0, 1, 4, 4, 1, 0, 1, 4, 4, 1, 0, 1, 4, 4, 1, 0, 1, 4, 4, 1, 0, 1, 4, 4, 1, 0, 1, 4, 4, 1, 0, 1, 4, 4, 1, 0, 1, 4, 4, 1, 0, 1, 4, 4, 1, 0, 1, 4, 4, 1, 0, 1, 4, 4, 1, 0, 1, 4, 4, 1, 0, 1, 4, 4, 1, 0]\n",
      "[1, 4, 9, 5, 3, 3, 5, 9, 4, 1, 0, 1, 4, 9, 5, 3, 3, 5, 9, 4, 1, 0, 1, 4, 9, 5, 3, 3, 5, 9, 4, 1, 0, 1, 4, 9, 5, 3, 3, 5, 9, 4, 1, 0, 1, 4, 9, 5, 3, 3, 5, 9, 4, 1, 0, 1, 4, 9, 5, 3, 3, 5, 9, 4, 1, 0, 1, 4, 9, 5, 3, 3, 5, 9, 4, 1, 0, 1, 4, 9, 5, 3, 3, 5, 9, 4, 1, 0, 1, 4, 9, 5, 3, 3, 5, 9, 4, 1, 0, 1]\n"
     ]
    }
   ],
   "source": [
    "l1 = [1,2,3,4,5] # case 1\n",
    "l1*5\n",
    "l2 = [10,20,30]+[10,20,30] # case 2\n",
    "l2\n",
    "# in both cases elements get concatenated like an unusual result, I'm not expected this result, instead result should be;\n",
    "# l1 = [5,10,15,20,25] \n",
    "# l2 = [20,40,60]\n",
    "\n",
    "# use list comprehensions as;\n",
    "l1 = [x*5 for x in l1]\n",
    "print(l1)\n",
    "l2 = [x*2 for x in [10,20,30]]\n",
    "l2\n",
    "\n",
    "#another example\n",
    "squares =[]\n",
    "for i in range(1,101):\n",
    "    squares.append(i**2)\n",
    "print(squares)\n",
    "\n",
    "# use list comprehensions as;\n",
    "square2 = [x**2 for x in range(1,101)]\n",
    "print(square2)\n",
    "\n",
    "remainder5 =[x**2%5 for x in range(1,101)]\n",
    "print(remainder5)\n",
    "\n",
    "remainders11 = [x**2%11 for x in range(1,101)]\n",
    "print(remainders11)"
   ]
  },
  {
   "cell_type": "code",
   "execution_count": 43,
   "metadata": {},
   "outputs": [
    {
     "name": "stdout",
     "output_type": "stream",
     "text": [
      "['satyan shivan sundaram', 'shree 420', 'shadi ke baad']\n",
      "['satyan shivan sundaram', 'shree 420', 'shadi ke baad']\n"
     ]
    }
   ],
   "source": [
    "# lets use some character type examples\n",
    "\n",
    "movies = ['mere jeevan sathi','pyar kiye ja','jawaani-diwanni','khubsoorat','ziddi','padosan','satyan shivan sundaram','pagla kahin ka', 'hare rama hare krishna',\n",
    "          'shree 420','awaara','dil hi to hai', 'aashique hoon baharon ka','tere ghar ke samne','aamne saamne','shadi ke baad','geet gata chal','pyar ka mausam',\n",
    "           'besharam','ghooghat','qatilo ka qatil' ]\n",
    "# using loop\n",
    "movie=[]\n",
    "for title in movies:\n",
    "        if title.startswith('s'):\n",
    "         movie.append(title)\n",
    "print(movie)\n",
    "\n",
    "# using list comprehension;\n",
    "movie = [title for title in movies if title.startswith('s')]\n",
    "print(movie)\n"
   ]
  },
  {
   "cell_type": "code",
   "execution_count": 64,
   "metadata": {},
   "outputs": [
    {
     "name": "stdout",
     "output_type": "stream",
     "text": [
      "['shree 420', 'awaara', 'pyar ka mausam']\n",
      "['APPLE', 'BANANA', 'PINEAPPLE', 'WATERMELON', 'GRAPES']\n",
      "['APPLE', 'BANANA', 'PINEAPPLE', 'WATERMELON', 'GRAPES']\n",
      "Hello How Are You All Good\n"
     ]
    }
   ],
   "source": [
    "MoviesYear = [('mere jeevan sathi',1990),('pyar kiye ja',1999),('jawaani-diwanni',1970),('khubsoorat',1972),('ziddi',1981),('padosan',2000),('satyan shivan sundaram',1974),('pagla kahin ka',2002), ('hare rama hare krishna',1988),\n",
    "          ('shree 420',1962),('awaara',1965),('dil hi to hai',2009), ('aashique hoon baharon ka',1973),('tere ghar ke samne',1970),('aamne saamne',1980)\n",
    "          ,('shadi ke baad',2011),('geet gata chal',1988),('pyar ka mausam',1966),('besharam',1990),('ghooghat',2004),('qatilo ka qatil',1977)]\n",
    "\n",
    "titleofMovie = [title for (title,year) in MoviesYear if year <1970]\n",
    "print(titleofMovie)\n",
    "\n",
    "Fruits = ['apple','banana','pineapple','watermelon','grapes']\n",
    "\n",
    "fruit = []\n",
    "for x in Fruits:\n",
    "        fruit.append(x.upper())\n",
    "print(fruit)\n",
    "\n",
    "NewFruits =[fruits.upper() for fruits in Fruits]\n",
    "print(NewFruits)\n",
    "\n",
    "\n",
    "strings =\"HelloHowAreYouAllGood\"\n",
    "NewString =\"\".join([i if i.islower() else \" \" + i for i in strings])[1:]\n",
    "print(NewString)\n",
    "\n",
    "\n"
   ]
  },
  {
   "cell_type": "code",
   "execution_count": 51,
   "metadata": {},
   "outputs": [
    {
     "name": "stdout",
     "output_type": "stream",
     "text": [
      "[(1, 2), (1, 4), (1, 6), (1, 8), (3, 2), (3, 4), (3, 6), (3, 8), (5, 2), (5, 4), (5, 6), (5, 8), (7, 2), (7, 4), (7, 6), (7, 8)]\n"
     ]
    }
   ],
   "source": [
    "#cartesian product\n",
    "# A =(1,2), B =(a,b) then result should be {(1,a),(2,a),(1,b),(2,b)}\n",
    "\n",
    "A = [1,3,5,7]\n",
    "B = [2,4,6,8]\n",
    "\n",
    "CP = [(a,b) for a in A for b in B]\n",
    "print(CP)"
   ]
  }
 ],
 "metadata": {
  "kernelspec": {
   "display_name": "Python 3",
   "language": "python",
   "name": "python3"
  },
  "language_info": {
   "codemirror_mode": {
    "name": "ipython",
    "version": 3
   },
   "file_extension": ".py",
   "mimetype": "text/x-python",
   "name": "python",
   "nbconvert_exporter": "python",
   "pygments_lexer": "ipython3",
   "version": "3.12.4"
  }
 },
 "nbformat": 4,
 "nbformat_minor": 2
}
